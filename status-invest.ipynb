{
 "cells": [
  {
   "cell_type": "code",
   "execution_count": 2,
   "metadata": {},
   "outputs": [
    {
     "name": "stdout",
     "output_type": "stream",
     "text": [
      "Requirement already satisfied: selenium in c:\\users\\jeffr\\anaconda3\\lib\\site-packages (4.10.0)\n",
      "Requirement already satisfied: urllib3[socks]<3,>=1.26 in c:\\users\\jeffr\\anaconda3\\lib\\site-packages (from selenium) (1.26.9)\n",
      "Requirement already satisfied: trio~=0.17 in c:\\users\\jeffr\\anaconda3\\lib\\site-packages (from selenium) (0.22.2)\n",
      "Requirement already satisfied: trio-websocket~=0.9 in c:\\users\\jeffr\\anaconda3\\lib\\site-packages (from selenium) (0.10.3)\n",
      "Requirement already satisfied: certifi>=2021.10.8 in c:\\users\\jeffr\\anaconda3\\lib\\site-packages (from selenium) (2021.10.8)\n",
      "Requirement already satisfied: attrs>=20.1.0 in c:\\users\\jeffr\\anaconda3\\lib\\site-packages (from trio~=0.17->selenium) (21.4.0)\n",
      "Requirement already satisfied: sortedcontainers in c:\\users\\jeffr\\anaconda3\\lib\\site-packages (from trio~=0.17->selenium) (2.4.0)\n",
      "Requirement already satisfied: idna in c:\\users\\jeffr\\anaconda3\\lib\\site-packages (from trio~=0.17->selenium) (3.3)\n",
      "Requirement already satisfied: outcome in c:\\users\\jeffr\\anaconda3\\lib\\site-packages (from trio~=0.17->selenium) (1.2.0)\n",
      "Requirement already satisfied: sniffio in c:\\users\\jeffr\\anaconda3\\lib\\site-packages (from trio~=0.17->selenium) (1.2.0)\n",
      "Requirement already satisfied: cffi>=1.14 in c:\\users\\jeffr\\anaconda3\\lib\\site-packages (from trio~=0.17->selenium) (1.15.0)\n",
      "Requirement already satisfied: exceptiongroup>=1.0.0rc9 in c:\\users\\jeffr\\anaconda3\\lib\\site-packages (from trio~=0.17->selenium) (1.1.2)\n",
      "Requirement already satisfied: wsproto>=0.14 in c:\\users\\jeffr\\anaconda3\\lib\\site-packages (from trio-websocket~=0.9->selenium) (1.2.0)\n",
      "Requirement already satisfied: PySocks!=1.5.7,<2.0,>=1.5.6 in c:\\users\\jeffr\\anaconda3\\lib\\site-packages (from urllib3[socks]<3,>=1.26->selenium) (1.7.1)\n",
      "Requirement already satisfied: pycparser in c:\\users\\jeffr\\anaconda3\\lib\\site-packages (from cffi>=1.14->trio~=0.17->selenium) (2.21)\n",
      "Requirement already satisfied: h11<1,>=0.9.0 in c:\\users\\jeffr\\anaconda3\\lib\\site-packages (from wsproto>=0.14->trio-websocket~=0.9->selenium) (0.14.0)\n"
     ]
    }
   ],
   "source": [
    "!pip3 install selenium"
   ]
  },
  {
   "cell_type": "code",
   "execution_count": 3,
   "metadata": {},
   "outputs": [],
   "source": [
    "from selenium import webdriver\n",
    "from selenium.webdriver.common.by import By\n",
    "from time import sleep\n",
    "from json import dumps\n",
    "import pandas as pd"
   ]
  },
  {
   "cell_type": "code",
   "execution_count": 4,
   "metadata": {},
   "outputs": [],
   "source": [
    "#lendo arquivo csv com os tickers e salvando em um arquivo csv com os status\n",
    "\n",
    "#lendo csv original\n",
    "tabela = pd.read_csv(\"statusinvest-busca-avancada.csv\", sep=\";\")\n",
    "\n",
    "#criando dataframe com apenas com os códigos\n",
    "df_ticker =  pd.DataFrame(tabela[\"TICKER\"])\n",
    "\n",
    "#inserindo coluna com status\n",
    "df_ticker.insert(loc=0, column='Status', value=0)\n",
    "\n",
    "#salvando o arquivo csv apenas com código e status\n",
    "df_ticker.to_csv('ticker.csv', sep=\";\", index=False)"
   ]
  },
  {
   "cell_type": "code",
   "execution_count": 5,
   "metadata": {},
   "outputs": [],
   "source": [
    "def get_stock_status(stock_name):\n",
    "        base_URL = \"https://statusinvest.com.br/acoes/\"\n",
    "        final_URL = base_URL+stock_name\n",
    "        driver= webdriver.Chrome()\n",
    "        print(\"acessando página de\", stock_name)\n",
    "        driver.get(final_URL)\n",
    "        \n",
    "        sleep(3.0)\n",
    "        ativo_name = driver.find_element(By.XPATH, '//*[@id=\"main-header\"]/div[2]/div/div[1]/h1/small')\n",
    "        button_historico = driver.find_element(By.XPATH,'//*[@id=\"indicators-section\"]/div[1]/div[2]/button[@title=\"Histórico do ativo\"]')\n",
    "        button_historico.click()\n",
    "        print(\"clicando botão para acessar histórico\")\n",
    "        sleep(4.5)\n",
    "\n",
    "        complete_tables = driver.find_elements(By.XPATH, '//div[@class=\"indicators\"]')\n",
    "        dic_list = []\n",
    "        print(\"extraindo dados de\", stock_name)\n",
    "        for elem in complete_tables:\n",
    "                indicator_names = elem.find_elements(By.TAG_NAME, 'h3')\n",
    "                for i in range(len(indicator_names)):\n",
    "                        year = elem.find_element(By.XPATH, '//*[@id=\"indicators-section\"]/div[3]/div[2]/div/div[2]/div/div[1]').text.split('\\n')\n",
    "                        value = elem.find_element(By.XPATH, '//*[@id=\"indicators-section\"]/div[3]/div[2]/div/div[2]/div/div[' +str(i+2) +']').text.split('\\n')\n",
    "                        for j in range(len(year)):\n",
    "                                dic = {\n",
    "                                        \"ativo\": stock_name,\n",
    "                                        \"indicator_name\": indicator_names[i].text,\n",
    "                                        \"nome\": ativo_name.text,\n",
    "                                        \"year\":year[j],\n",
    "                                        \"value\":value[j]\n",
    "                                }\n",
    "                                dic_list.append(dic)\n",
    "        driver.close()\n",
    "        return dumps(dic_list, indent = 6)"
   ]
  },
  {
   "cell_type": "code",
   "execution_count": null,
   "metadata": {},
   "outputs": [],
   "source": [
    "ticker =  pd.read_csv('ticker.csv', sep=\";\")\n",
    "\n",
    "\n",
    "for i in range(len(ticker)):\n",
    "    if(ticker.at[i, 'Status']== 0):\n",
    "        ativo = ticker.at[i, \"TICKER\"]\n",
    "        print(\"proximo ativo\", ativo)\n",
    "        while True:\n",
    "            try:\n",
    "                sleep(1.0)\n",
    "                data_to_save = get_stock_status(ativo)\n",
    "            except:\n",
    "                print(\"tentando\", ativo, \"novamente\")\n",
    "                continue\n",
    "            break\n",
    "        f = open(\"ativos/\"+ativo, \"w\")\n",
    "        f.write(data_to_save)\n",
    "        f.close()\n",
    "        ticker.at[i, 'Status'] = 1\n",
    "        ticker.to_csv('ticker.csv', sep=\";\", index=False)\n",
    "\n",
    "\n",
    "\n"
   ]
  },
  {
   "cell_type": "code",
   "execution_count": 7,
   "metadata": {},
   "outputs": [
    {
     "ename": "SessionNotCreatedException",
     "evalue": "Message: session not created: This version of ChromeDriver only supports Chrome version 114\nCurrent browser version is 117.0.5938.132 with binary path C:\\Program Files\\Google\\Chrome\\Application\\chrome.exe\nStacktrace:\nBacktrace:\n\tGetHandleVerifier [0x00BEA813+48355]\n\t(No symbol) [0x00B7C4B1]\n\t(No symbol) [0x00A85358]\n\t(No symbol) [0x00AA61AC]\n\t(No symbol) [0x00AA1EF3]\n\t(No symbol) [0x00AA0579]\n\t(No symbol) [0x00AD0C55]\n\t(No symbol) [0x00AD093C]\n\t(No symbol) [0x00ACA536]\n\t(No symbol) [0x00AA82DC]\n\t(No symbol) [0x00AA93DD]\n\tGetHandleVerifier [0x00E4AABD+2539405]\n\tGetHandleVerifier [0x00E8A78F+2800735]\n\tGetHandleVerifier [0x00E8456C+2775612]\n\tGetHandleVerifier [0x00C751E0+616112]\n\t(No symbol) [0x00B85F8C]\n\t(No symbol) [0x00B82328]\n\t(No symbol) [0x00B8240B]\n\t(No symbol) [0x00B74FF7]\n\tBaseThreadInitThunk [0x76CD6839+25]\n\tRtlGetFullPathName_UEx [0x77758F0F+1215]\n\tRtlGetFullPathName_UEx [0x77758EDD+1165]\n",
     "output_type": "error",
     "traceback": [
      "\u001b[1;31m---------------------------------------------------------------------------\u001b[0m",
      "\u001b[1;31mSessionNotCreatedException\u001b[0m                Traceback (most recent call last)",
      "\u001b[1;32md:\\Users\\Danimay94\\Desktop\\status invest\\status-invest.ipynb Cell 6\u001b[0m line \u001b[0;36m1\n\u001b[1;32m----> <a href='vscode-notebook-cell:/d%3A/Users/Danimay94/Desktop/status%20invest/status-invest.ipynb#W5sZmlsZQ%3D%3D?line=0'>1</a>\u001b[0m data_to_save \u001b[39m=\u001b[39m get_stock_status(\u001b[39m\"\u001b[39;49m\u001b[39mVIVT3\u001b[39;49m\u001b[39m\"\u001b[39;49m)\n",
      "\u001b[1;32md:\\Users\\Danimay94\\Desktop\\status invest\\status-invest.ipynb Cell 6\u001b[0m line \u001b[0;36m4\n\u001b[0;32m      <a href='vscode-notebook-cell:/d%3A/Users/Danimay94/Desktop/status%20invest/status-invest.ipynb#W5sZmlsZQ%3D%3D?line=1'>2</a>\u001b[0m base_URL \u001b[39m=\u001b[39m \u001b[39m\"\u001b[39m\u001b[39mhttps://statusinvest.com.br/acoes/\u001b[39m\u001b[39m\"\u001b[39m\n\u001b[0;32m      <a href='vscode-notebook-cell:/d%3A/Users/Danimay94/Desktop/status%20invest/status-invest.ipynb#W5sZmlsZQ%3D%3D?line=2'>3</a>\u001b[0m final_URL \u001b[39m=\u001b[39m base_URL\u001b[39m+\u001b[39mstock_name\n\u001b[1;32m----> <a href='vscode-notebook-cell:/d%3A/Users/Danimay94/Desktop/status%20invest/status-invest.ipynb#W5sZmlsZQ%3D%3D?line=3'>4</a>\u001b[0m driver\u001b[39m=\u001b[39m webdriver\u001b[39m.\u001b[39;49mChrome()\n\u001b[0;32m      <a href='vscode-notebook-cell:/d%3A/Users/Danimay94/Desktop/status%20invest/status-invest.ipynb#W5sZmlsZQ%3D%3D?line=4'>5</a>\u001b[0m \u001b[39mprint\u001b[39m(\u001b[39m\"\u001b[39m\u001b[39macessando página de\u001b[39m\u001b[39m\"\u001b[39m, stock_name)\n\u001b[0;32m      <a href='vscode-notebook-cell:/d%3A/Users/Danimay94/Desktop/status%20invest/status-invest.ipynb#W5sZmlsZQ%3D%3D?line=5'>6</a>\u001b[0m driver\u001b[39m.\u001b[39mget(final_URL)\n",
      "File \u001b[1;32mc:\\Users\\jeffr\\anaconda3\\lib\\site-packages\\selenium\\webdriver\\chrome\\webdriver.py:49\u001b[0m, in \u001b[0;36mWebDriver.__init__\u001b[1;34m(self, options, service, keep_alive)\u001b[0m\n\u001b[0;32m     45\u001b[0m \u001b[39mself\u001b[39m\u001b[39m.\u001b[39mkeep_alive \u001b[39m=\u001b[39m keep_alive\n\u001b[0;32m     47\u001b[0m \u001b[39mself\u001b[39m\u001b[39m.\u001b[39mservice\u001b[39m.\u001b[39mpath \u001b[39m=\u001b[39m DriverFinder\u001b[39m.\u001b[39mget_path(\u001b[39mself\u001b[39m\u001b[39m.\u001b[39mservice, \u001b[39mself\u001b[39m\u001b[39m.\u001b[39moptions)\n\u001b[1;32m---> 49\u001b[0m \u001b[39msuper\u001b[39;49m()\u001b[39m.\u001b[39;49m\u001b[39m__init__\u001b[39;49m(\n\u001b[0;32m     50\u001b[0m     DesiredCapabilities\u001b[39m.\u001b[39;49mCHROME[\u001b[39m\"\u001b[39;49m\u001b[39mbrowserName\u001b[39;49m\u001b[39m\"\u001b[39;49m],\n\u001b[0;32m     51\u001b[0m     \u001b[39m\"\u001b[39;49m\u001b[39mgoog\u001b[39;49m\u001b[39m\"\u001b[39;49m,\n\u001b[0;32m     52\u001b[0m     \u001b[39mself\u001b[39;49m\u001b[39m.\u001b[39;49moptions,\n\u001b[0;32m     53\u001b[0m     \u001b[39mself\u001b[39;49m\u001b[39m.\u001b[39;49mservice,\n\u001b[0;32m     54\u001b[0m     \u001b[39mself\u001b[39;49m\u001b[39m.\u001b[39;49mkeep_alive,\n\u001b[0;32m     55\u001b[0m )\n",
      "File \u001b[1;32mc:\\Users\\jeffr\\anaconda3\\lib\\site-packages\\selenium\\webdriver\\chromium\\webdriver.py:54\u001b[0m, in \u001b[0;36mChromiumDriver.__init__\u001b[1;34m(self, browser_name, vendor_prefix, options, service, keep_alive)\u001b[0m\n\u001b[0;32m     51\u001b[0m \u001b[39mself\u001b[39m\u001b[39m.\u001b[39mservice\u001b[39m.\u001b[39mstart()\n\u001b[0;32m     53\u001b[0m \u001b[39mtry\u001b[39;00m:\n\u001b[1;32m---> 54\u001b[0m     \u001b[39msuper\u001b[39;49m()\u001b[39m.\u001b[39;49m\u001b[39m__init__\u001b[39;49m(\n\u001b[0;32m     55\u001b[0m         command_executor\u001b[39m=\u001b[39;49mChromiumRemoteConnection(\n\u001b[0;32m     56\u001b[0m             remote_server_addr\u001b[39m=\u001b[39;49m\u001b[39mself\u001b[39;49m\u001b[39m.\u001b[39;49mservice\u001b[39m.\u001b[39;49mservice_url,\n\u001b[0;32m     57\u001b[0m             browser_name\u001b[39m=\u001b[39;49mbrowser_name,\n\u001b[0;32m     58\u001b[0m             vendor_prefix\u001b[39m=\u001b[39;49mvendor_prefix,\n\u001b[0;32m     59\u001b[0m             keep_alive\u001b[39m=\u001b[39;49mkeep_alive,\n\u001b[0;32m     60\u001b[0m             ignore_proxy\u001b[39m=\u001b[39;49m\u001b[39mself\u001b[39;49m\u001b[39m.\u001b[39;49moptions\u001b[39m.\u001b[39;49m_ignore_local_proxy,\n\u001b[0;32m     61\u001b[0m         ),\n\u001b[0;32m     62\u001b[0m         options\u001b[39m=\u001b[39;49m\u001b[39mself\u001b[39;49m\u001b[39m.\u001b[39;49moptions,\n\u001b[0;32m     63\u001b[0m     )\n\u001b[0;32m     64\u001b[0m \u001b[39mexcept\u001b[39;00m \u001b[39mException\u001b[39;00m:\n\u001b[0;32m     65\u001b[0m     \u001b[39mself\u001b[39m\u001b[39m.\u001b[39mquit()\n",
      "File \u001b[1;32mc:\\Users\\jeffr\\anaconda3\\lib\\site-packages\\selenium\\webdriver\\remote\\webdriver.py:206\u001b[0m, in \u001b[0;36mWebDriver.__init__\u001b[1;34m(self, command_executor, keep_alive, file_detector, options)\u001b[0m\n\u001b[0;32m    204\u001b[0m \u001b[39mself\u001b[39m\u001b[39m.\u001b[39m_authenticator_id \u001b[39m=\u001b[39m \u001b[39mNone\u001b[39;00m\n\u001b[0;32m    205\u001b[0m \u001b[39mself\u001b[39m\u001b[39m.\u001b[39mstart_client()\n\u001b[1;32m--> 206\u001b[0m \u001b[39mself\u001b[39;49m\u001b[39m.\u001b[39;49mstart_session(capabilities)\n",
      "File \u001b[1;32mc:\\Users\\jeffr\\anaconda3\\lib\\site-packages\\selenium\\webdriver\\remote\\webdriver.py:291\u001b[0m, in \u001b[0;36mWebDriver.start_session\u001b[1;34m(self, capabilities)\u001b[0m\n\u001b[0;32m    283\u001b[0m \u001b[39m\u001b[39m\u001b[39m\"\"\"Creates a new session with the desired capabilities.\u001b[39;00m\n\u001b[0;32m    284\u001b[0m \n\u001b[0;32m    285\u001b[0m \u001b[39m:Args:\u001b[39;00m\n\u001b[0;32m    286\u001b[0m \u001b[39m - capabilities - a capabilities dict to start the session with.\u001b[39;00m\n\u001b[0;32m    287\u001b[0m \u001b[39m - browser_profile - A selenium.webdriver.firefox.firefox_profile.FirefoxProfile object. Only used if Firefox is requested.\u001b[39;00m\n\u001b[0;32m    288\u001b[0m \u001b[39m\"\"\"\u001b[39;00m\n\u001b[0;32m    290\u001b[0m caps \u001b[39m=\u001b[39m _create_caps(capabilities)\n\u001b[1;32m--> 291\u001b[0m response \u001b[39m=\u001b[39m \u001b[39mself\u001b[39;49m\u001b[39m.\u001b[39;49mexecute(Command\u001b[39m.\u001b[39;49mNEW_SESSION, caps)[\u001b[39m\"\u001b[39m\u001b[39mvalue\u001b[39m\u001b[39m\"\u001b[39m]\n\u001b[0;32m    292\u001b[0m \u001b[39mself\u001b[39m\u001b[39m.\u001b[39msession_id \u001b[39m=\u001b[39m response\u001b[39m.\u001b[39mget(\u001b[39m\"\u001b[39m\u001b[39msessionId\u001b[39m\u001b[39m\"\u001b[39m)\n\u001b[0;32m    293\u001b[0m \u001b[39mself\u001b[39m\u001b[39m.\u001b[39mcaps \u001b[39m=\u001b[39m response\u001b[39m.\u001b[39mget(\u001b[39m\"\u001b[39m\u001b[39mcapabilities\u001b[39m\u001b[39m\"\u001b[39m)\n",
      "File \u001b[1;32mc:\\Users\\jeffr\\anaconda3\\lib\\site-packages\\selenium\\webdriver\\remote\\webdriver.py:346\u001b[0m, in \u001b[0;36mWebDriver.execute\u001b[1;34m(self, driver_command, params)\u001b[0m\n\u001b[0;32m    344\u001b[0m response \u001b[39m=\u001b[39m \u001b[39mself\u001b[39m\u001b[39m.\u001b[39mcommand_executor\u001b[39m.\u001b[39mexecute(driver_command, params)\n\u001b[0;32m    345\u001b[0m \u001b[39mif\u001b[39;00m response:\n\u001b[1;32m--> 346\u001b[0m     \u001b[39mself\u001b[39;49m\u001b[39m.\u001b[39;49merror_handler\u001b[39m.\u001b[39;49mcheck_response(response)\n\u001b[0;32m    347\u001b[0m     response[\u001b[39m\"\u001b[39m\u001b[39mvalue\u001b[39m\u001b[39m\"\u001b[39m] \u001b[39m=\u001b[39m \u001b[39mself\u001b[39m\u001b[39m.\u001b[39m_unwrap_value(response\u001b[39m.\u001b[39mget(\u001b[39m\"\u001b[39m\u001b[39mvalue\u001b[39m\u001b[39m\"\u001b[39m, \u001b[39mNone\u001b[39;00m))\n\u001b[0;32m    348\u001b[0m     \u001b[39mreturn\u001b[39;00m response\n",
      "File \u001b[1;32mc:\\Users\\jeffr\\anaconda3\\lib\\site-packages\\selenium\\webdriver\\remote\\errorhandler.py:245\u001b[0m, in \u001b[0;36mErrorHandler.check_response\u001b[1;34m(self, response)\u001b[0m\n\u001b[0;32m    243\u001b[0m         alert_text \u001b[39m=\u001b[39m value[\u001b[39m\"\u001b[39m\u001b[39malert\u001b[39m\u001b[39m\"\u001b[39m]\u001b[39m.\u001b[39mget(\u001b[39m\"\u001b[39m\u001b[39mtext\u001b[39m\u001b[39m\"\u001b[39m)\n\u001b[0;32m    244\u001b[0m     \u001b[39mraise\u001b[39;00m exception_class(message, screen, stacktrace, alert_text)  \u001b[39m# type: ignore[call-arg]  # mypy is not smart enough here\u001b[39;00m\n\u001b[1;32m--> 245\u001b[0m \u001b[39mraise\u001b[39;00m exception_class(message, screen, stacktrace)\n",
      "\u001b[1;31mSessionNotCreatedException\u001b[0m: Message: session not created: This version of ChromeDriver only supports Chrome version 114\nCurrent browser version is 117.0.5938.132 with binary path C:\\Program Files\\Google\\Chrome\\Application\\chrome.exe\nStacktrace:\nBacktrace:\n\tGetHandleVerifier [0x00BEA813+48355]\n\t(No symbol) [0x00B7C4B1]\n\t(No symbol) [0x00A85358]\n\t(No symbol) [0x00AA61AC]\n\t(No symbol) [0x00AA1EF3]\n\t(No symbol) [0x00AA0579]\n\t(No symbol) [0x00AD0C55]\n\t(No symbol) [0x00AD093C]\n\t(No symbol) [0x00ACA536]\n\t(No symbol) [0x00AA82DC]\n\t(No symbol) [0x00AA93DD]\n\tGetHandleVerifier [0x00E4AABD+2539405]\n\tGetHandleVerifier [0x00E8A78F+2800735]\n\tGetHandleVerifier [0x00E8456C+2775612]\n\tGetHandleVerifier [0x00C751E0+616112]\n\t(No symbol) [0x00B85F8C]\n\t(No symbol) [0x00B82328]\n\t(No symbol) [0x00B8240B]\n\t(No symbol) [0x00B74FF7]\n\tBaseThreadInitThunk [0x76CD6839+25]\n\tRtlGetFullPathName_UEx [0x77758F0F+1215]\n\tRtlGetFullPathName_UEx [0x77758EDD+1165]\n"
     ]
    }
   ],
   "source": [
    "data_to_save = get_stock_status(\"VIVT3\")"
   ]
  }
 ],
 "metadata": {
  "kernelspec": {
   "display_name": "base",
   "language": "python",
   "name": "python3"
  },
  "language_info": {
   "codemirror_mode": {
    "name": "ipython",
    "version": 3
   },
   "file_extension": ".py",
   "mimetype": "text/x-python",
   "name": "python",
   "nbconvert_exporter": "python",
   "pygments_lexer": "ipython3",
   "version": "3.9.12"
  },
  "orig_nbformat": 4,
  "vscode": {
   "interpreter": {
    "hash": "9129e57c9ad0832b8c5a23e319c476629b1a6d041425cb8fc5fd19eee72be3b7"
   }
  }
 },
 "nbformat": 4,
 "nbformat_minor": 2
}
