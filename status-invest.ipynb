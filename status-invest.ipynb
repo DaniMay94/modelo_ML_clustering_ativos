{
 "cells": [
  {
   "cell_type": "code",
   "execution_count": 2,
   "metadata": {},
   "outputs": [
    {
     "name": "stdout",
     "output_type": "stream",
     "text": [
      "Requirement already satisfied: selenium in c:\\users\\jeffr\\anaconda3\\lib\\site-packages (4.10.0)\n",
      "Requirement already satisfied: urllib3[socks]<3,>=1.26 in c:\\users\\jeffr\\anaconda3\\lib\\site-packages (from selenium) (1.26.9)\n",
      "Requirement already satisfied: trio~=0.17 in c:\\users\\jeffr\\anaconda3\\lib\\site-packages (from selenium) (0.22.2)\n",
      "Requirement already satisfied: trio-websocket~=0.9 in c:\\users\\jeffr\\anaconda3\\lib\\site-packages (from selenium) (0.10.3)\n",
      "Requirement already satisfied: certifi>=2021.10.8 in c:\\users\\jeffr\\anaconda3\\lib\\site-packages (from selenium) (2021.10.8)\n",
      "Requirement already satisfied: attrs>=20.1.0 in c:\\users\\jeffr\\anaconda3\\lib\\site-packages (from trio~=0.17->selenium) (21.4.0)\n",
      "Requirement already satisfied: sortedcontainers in c:\\users\\jeffr\\anaconda3\\lib\\site-packages (from trio~=0.17->selenium) (2.4.0)\n",
      "Requirement already satisfied: idna in c:\\users\\jeffr\\anaconda3\\lib\\site-packages (from trio~=0.17->selenium) (3.3)\n",
      "Requirement already satisfied: outcome in c:\\users\\jeffr\\anaconda3\\lib\\site-packages (from trio~=0.17->selenium) (1.2.0)\n",
      "Requirement already satisfied: sniffio in c:\\users\\jeffr\\anaconda3\\lib\\site-packages (from trio~=0.17->selenium) (1.2.0)\n",
      "Requirement already satisfied: cffi>=1.14 in c:\\users\\jeffr\\anaconda3\\lib\\site-packages (from trio~=0.17->selenium) (1.15.0)\n",
      "Requirement already satisfied: exceptiongroup>=1.0.0rc9 in c:\\users\\jeffr\\anaconda3\\lib\\site-packages (from trio~=0.17->selenium) (1.1.2)\n",
      "Requirement already satisfied: wsproto>=0.14 in c:\\users\\jeffr\\anaconda3\\lib\\site-packages (from trio-websocket~=0.9->selenium) (1.2.0)\n",
      "Requirement already satisfied: PySocks!=1.5.7,<2.0,>=1.5.6 in c:\\users\\jeffr\\anaconda3\\lib\\site-packages (from urllib3[socks]<3,>=1.26->selenium) (1.7.1)\n",
      "Requirement already satisfied: pycparser in c:\\users\\jeffr\\anaconda3\\lib\\site-packages (from cffi>=1.14->trio~=0.17->selenium) (2.21)\n",
      "Requirement already satisfied: h11<1,>=0.9.0 in c:\\users\\jeffr\\anaconda3\\lib\\site-packages (from wsproto>=0.14->trio-websocket~=0.9->selenium) (0.14.0)\n"
     ]
    }
   ],
   "source": [
    "!pip3 install selenium"
   ]
  },
  {
   "cell_type": "code",
   "execution_count": 3,
   "metadata": {},
   "outputs": [],
   "source": [
    "from selenium import webdriver\n",
    "from selenium.webdriver.common.by import By\n",
    "from time import sleep\n",
    "from json import dumps\n",
    "import pandas as pd"
   ]
  },
  {
   "cell_type": "code",
   "execution_count": 4,
   "metadata": {},
   "outputs": [],
   "source": [
    "#lendo arquivo csv com os tickers e salvando em um arquivo csv com os status\n",
    "\n",
    "#lendo csv original\n",
    "tabela = pd.read_csv(\"statusinvest-busca-avancada.csv\", sep=\";\")\n",
    "\n",
    "#criando dataframe com apenas com os códigos\n",
    "df_ticker =  pd.DataFrame(tabela[\"TICKER\"])\n",
    "\n",
    "#inserindo coluna com status\n",
    "df_ticker.insert(loc=0, column='Status', value=0)\n",
    "\n",
    "#salvando o arquivo csv apenas com código e status\n",
    "df_ticker.to_csv('ticker.csv', sep=\";\", index=False)"
   ]
  },
  {
   "cell_type": "code",
   "execution_count": 5,
   "metadata": {},
   "outputs": [],
   "source": [
    "def get_stock_status(stock_name):\n",
    "        base_URL = \"https://statusinvest.com.br/acoes/\"\n",
    "        final_URL = base_URL+stock_name\n",
    "        driver= webdriver.Chrome()\n",
    "        print(\"acessando página de\", stock_name)\n",
    "        driver.get(final_URL)\n",
    "        \n",
    "        sleep(3.0)\n",
    "        ativo_name = driver.find_element(By.XPATH, '//*[@id=\"main-header\"]/div[2]/div/div[1]/h1/small')\n",
    "        button_historico = driver.find_element(By.XPATH,'//*[@id=\"indicators-section\"]/div[1]/div[2]/button[@title=\"Histórico do ativo\"]')\n",
    "        button_historico.click()\n",
    "        print(\"clicando botão para acessar histórico\")\n",
    "        sleep(4.5)\n",
    "\n",
    "        complete_tables = driver.find_elements(By.XPATH, '//div[@class=\"indicators\"]')\n",
    "        dic_list = []\n",
    "        print(\"extraindo dados de\", stock_name)\n",
    "        for elem in complete_tables:\n",
    "                indicator_names = elem.find_elements(By.TAG_NAME, 'h3')\n",
    "                for i in range(len(indicator_names)):\n",
    "                        year = elem.find_element(By.XPATH, '//*[@id=\"indicators-section\"]/div[3]/div[2]/div/div[2]/div/div[1]').text.split('\\n')\n",
    "                        value = elem.find_element(By.XPATH, '//*[@id=\"indicators-section\"]/div[3]/div[2]/div/div[2]/div/div[' +str(i+2) +']').text.split('\\n')\n",
    "                        for j in range(len(year)):\n",
    "                                dic = {\n",
    "                                        \"ativo\": stock_name,\n",
    "                                        \"indicator_name\": indicator_names[i].text,\n",
    "                                        \"nome\": ativo_name.text,\n",
    "                                        \"year\":year[j],\n",
    "                                        \"value\":value[j]\n",
    "                                }\n",
    "                                dic_list.append(dic)\n",
    "        driver.close()\n",
    "        return dumps(dic_list, indent = 6)"
   ]
  },
  {
   "cell_type": "code",
   "execution_count": null,
   "metadata": {},
   "outputs": [],
   "source": [
    "ticker =  pd.read_csv('ticker.csv', sep=\";\")\n",
    "\n",
    "\n",
    "for i in range(len(ticker)):\n",
    "    if(ticker.at[i, 'Status']== 0):\n",
    "        ativo = ticker.at[i, \"TICKER\"]\n",
    "        print(\"proximo ativo\", ativo)\n",
    "        while True:\n",
    "            try:\n",
    "                sleep(1.0)\n",
    "                data_to_save = get_stock_status(ativo)\n",
    "            except:\n",
    "                print(\"tentando\", ativo, \"novamente\")\n",
    "                continue\n",
    "            break\n",
    "        f = open(\"ativos/\"+ativo, \"w\")\n",
    "        f.write(data_to_save)\n",
    "        f.close()\n",
    "        ticker.at[i, 'Status'] = 1\n",
    "        ticker.to_csv('ticker.csv', sep=\";\", index=False)\n",
    "\n",
    "\n",
    "\n"
   ]
  }
 ],
 "metadata": {
  "kernelspec": {
   "display_name": "base",
   "language": "python",
   "name": "python3"
  },
  "language_info": {
   "codemirror_mode": {
    "name": "ipython",
    "version": 3
   },
   "file_extension": ".py",
   "mimetype": "text/x-python",
   "name": "python",
   "nbconvert_exporter": "python",
   "pygments_lexer": "ipython3",
   "version": "3.9.12"
  },
  "orig_nbformat": 4,
  "vscode": {
   "interpreter": {
    "hash": "9129e57c9ad0832b8c5a23e319c476629b1a6d041425cb8fc5fd19eee72be3b7"
   }
  }
 },
 "nbformat": 4,
 "nbformat_minor": 2
}
